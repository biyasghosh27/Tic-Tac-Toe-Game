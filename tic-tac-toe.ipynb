{
 "cells": [
  {
   "cell_type": "markdown",
   "metadata": {},
   "source": [
    "TIC-TAC-TOE GAME\n",
    "part #1\n",
    "    -   create a board for tic-tac-toe\n",
    "    -   1st user can enter a space bw 1-9 and x will appear\n",
    "    -   2nd user can enter a space bw 1-9 and 0 will appear\n",
    "part #2\n",
    "    -   if user tries to enter a space already taken then not allowed and retry option\n",
    "    -   if user gets three symbol in a row the winner is announced\n",
    "    -   if all boxes are filled and no one has won then also the game ending message is shown\n",
    "part #3\n",
    "    -   user can choose whether to play with a friend or against the computer\n",
    "    -   design the computer to make its own move"
   ]
  },
  {
   "cell_type": "code",
   "execution_count": 98,
   "metadata": {},
   "outputs": [],
   "source": [
    "#TIC_TAC_TOE GAME\n",
    "import random\n",
    "board = [\" \"] * 9 #creating a board"
   ]
  },
  {
   "cell_type": "code",
   "execution_count": 99,
   "metadata": {},
   "outputs": [],
   "source": [
    "def draw_board(board): # making a func of printing the said board\n",
    "    row_1 = \"{}|{}|{}\".format(board[0], board[1], board[2])\n",
    "    row_2 = \"{}|{}|{}\".format(board[3], board[4], board[5])\n",
    "    row_3 = \"{}|{}|{}\".format(board[6], board[7], board[8])\n",
    "\n",
    "    print(row_1 + '\\n' + row_2 + '\\n' + row_3)\n",
    "\n",
    "available_spaces = [0,1,2,3,4,5,6,7,8]"
   ]
  },
  {
   "cell_type": "code",
   "execution_count": 100,
   "metadata": {},
   "outputs": [],
   "source": [
    "def user_move(board, user_type):\n",
    "    user_choice = int(input(\"choose your space bw 1-9\"))-1\n",
    "    if board[user_choice] != ' ':\n",
    "        print(\"Space already taken, try again\")\n",
    "        user_move(board, user_type)\n",
    "    else:\n",
    "        if(user_type == 'x'):\n",
    "            print(\"Chosen place for player 1: {}\".format(user_choice+1))\n",
    "        else:\n",
    "            print(\"Chosen place for player 2: {}\".format(user_choice+1))\n",
    "        board[user_choice] = user_type\n",
    "        available_spaces.remove(user_choice)"
   ]
  },
  {
   "cell_type": "code",
   "execution_count": 101,
   "metadata": {},
   "outputs": [],
   "source": [
    "def compMove(board, user_type):\n",
    "    #comp select one in random\n",
    "    comp_choice = random.choice(available_spaces)\n",
    "    print(\"Chosen place for computer: {}\".format(comp_choice+1))\n",
    "    board[comp_choice] = user_type\n",
    "    \n",
    "    available_spaces.remove(comp_choice)\n",
    "    "
   ]
  },
  {
   "cell_type": "code",
   "execution_count": 102,
   "metadata": {},
   "outputs": [],
   "source": [
    "def check_win(board, x_o):\n",
    "    if board[0] == x_o and board[1] == x_o and board[2] == x_o or board[3] == x_o and board[4] == x_o and board[5] == x_o or board[6] == x_o and board[7] == x_o and board[8] == x_o or board[0] == x_o and board[3] == x_o and board[6] == x_o or board[1] == x_o and board[4] == x_o and board[7] == x_o or board[2] == x_o and board[5] == x_o and board[8] == x_o or board[0] == x_o and board[4] == x_o and board[8] == x_o or board[2] == x_o and board[4] == x_o and board[6] == x_o:\n",
    "        play = False\n",
    "        if x_o == 'x':\n",
    "            print(\"Hooray! player 1 has won\")\n",
    "        else:\n",
    "            print(\"Hooray! player 2 has won\")\n",
    "    else:\n",
    "        play = True\n",
    "    return play"
   ]
  },
  {
   "cell_type": "code",
   "execution_count": 103,
   "metadata": {},
   "outputs": [
    {
     "name": "stdout",
     "output_type": "stream",
     "text": [
      " | | \n",
      " | | \n",
      " | | \n",
      "Chosen place for player 1: 9\n",
      " | | \n",
      " | | \n",
      " | |x\n",
      "End of the game\n"
     ]
    }
   ],
   "source": [
    "draw_board(board) # printing the board\n",
    "play = True\n",
    "cho = input(\"would you like to play against a friend or the computer? choose f and c\")\n",
    "\n",
    "while play ==  True: \n",
    "    \n",
    "    user_move(board, 'x')\n",
    "    play = check_win(board, 'x')\n",
    "    draw_board(board)\n",
    "    if play==False:\n",
    "        continue\n",
    "\n",
    "    if cho == 'f':\n",
    "        user_move(board, 'o')\n",
    "    elif cho == 'c':\n",
    "        compMove(board, 'o')\n",
    "    else:\n",
    "        print(\"Invalid: only choose f or c please!\")\n",
    "    play = check_win(board, 'o')\n",
    "    draw_board(board)\n",
    "\n",
    "print(\"End of the game\")"
   ]
  }
 ],
 "metadata": {
  "kernelspec": {
   "display_name": "Python 3",
   "language": "python",
   "name": "python3"
  },
  "language_info": {
   "codemirror_mode": {
    "name": "ipython",
    "version": 3
   },
   "file_extension": ".py",
   "mimetype": "text/x-python",
   "name": "python",
   "nbconvert_exporter": "python",
   "pygments_lexer": "ipython3",
   "version": "3.10.1"
  }
 },
 "nbformat": 4,
 "nbformat_minor": 2
}
